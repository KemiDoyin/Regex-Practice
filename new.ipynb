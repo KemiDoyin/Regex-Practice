{
 "cells": [
  {
   "cell_type": "code",
   "execution_count": null,
   "metadata": {},
   "outputs": [],
   "source": [
    "# Practice Regex In Python\n",
    "import re\n",
    "\n",
    "text = '''\n",
    "the boy is dealing with you1234567890 GEtbiyWNBSnkeke \n",
    "\n",
    "youremail@gmail.com\n",
    "youremail@gmail.com \n",
    "yeahhh@gmail.com\n",
    "bang@bang.edu\n",
    "\n",
    "333.2345.223\n",
    "345.2345.2332\n",
    "'''\n",
    "\n",
    "\n",
    "pattern = re.compile(r'[a-zA-Z0-9]+')\n",
    "matches = pattern.finditer(text)\n",
    "\n",
    "for match in matches:\n",
    "    print(match)"
   ]
  }
 ],
 "metadata": {
  "kernelspec": {
   "display_name": "Python 3",
   "language": "python",
   "name": "python3"
  },
  "language_info": {
   "name": "python",
   "version": "3.11.5"
  }
 },
 "nbformat": 4,
 "nbformat_minor": 2
}
